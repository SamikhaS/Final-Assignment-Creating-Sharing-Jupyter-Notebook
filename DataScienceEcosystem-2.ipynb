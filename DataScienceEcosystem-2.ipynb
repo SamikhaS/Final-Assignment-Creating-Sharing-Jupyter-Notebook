{
 "cells": [
  {
   "cell_type": "markdown",
   "id": "5e1af7ed-a3f5-42b7-b0fc-75522c7e3274",
   "metadata": {},
   "source": [
    "#Data Science Tools and Ecosystem"
   ]
  },
  {
   "cell_type": "markdown",
   "id": "09e56257-e410-49c8-8f30-18e415e09492",
   "metadata": {},
   "source": [
    "In this notebook, Data Science Tools and Ecosystem are summarized."
   ]
  },
  {
   "cell_type": "markdown",
   "id": "e760908d-b1bb-43ef-9def-2dbcb1bb736a",
   "metadata": {},
   "source": [
    "**Objectives:**\n",
    "-  List popular languages for Data Science\n",
    "-  Evaluating arithmetic expressions in Python\n",
    "-  Popular Data Science tools "
   ]
  },
  {
   "cell_type": "markdown",
   "id": "0f1d9ae7-edd5-4ae0-9a85-5546d5e3f751",
   "metadata": {},
   "source": [
    "Some of the popular languages that Data Scientists use are"
   ]
  },
  {
   "cell_type": "markdown",
   "id": "b764fd75-5a12-413b-a9cc-2cdfe1487751",
   "metadata": {},
   "source": [
    "1. Python\n",
    "2. R\n",
    "3. SQL"
   ]
  },
  {
   "cell_type": "markdown",
   "id": "9bec47c2-ae90-4bf9-9dea-292a0e577346",
   "metadata": {},
   "source": [
    "|Data Science Tools|\n",
    "|------------------|\n",
    "|Jupyter Notebooks |\n",
    "|Pytorch|\n",
    "|MLFlow|"
   ]
  },
  {
   "cell_type": "markdown",
   "id": "2a2b6e03-fa04-4c0a-8725-be940ce2ae62",
   "metadata": {},
   "source": [
    "###Below are a few examples of evaluating arithmetic expressions in Python"
   ]
  },
  {
   "cell_type": "code",
   "execution_count": 5,
   "id": "1a402667-b743-469e-9391-2553fe438b6b",
   "metadata": {},
   "outputs": [
    {
     "data": {
      "text/plain": [
       "17"
      ]
     },
     "execution_count": 5,
     "metadata": {},
     "output_type": "execute_result"
    }
   ],
   "source": [
    "#This is a simple arithmetic expressions to multiply then add integers\n",
    "(3*4)+5"
   ]
  },
  {
   "cell_type": "code",
   "execution_count": 8,
   "id": "405033e1-7735-4c27-a445-3a74a8da31ce",
   "metadata": {},
   "outputs": [
    {
     "data": {
      "text/plain": [
       "3.3333333333333335"
      ]
     },
     "execution_count": 8,
     "metadata": {},
     "output_type": "execute_result"
    }
   ],
   "source": [
    "#This will convert 200 minutes to hours by dividing by 60 \n",
    "(200/60)"
   ]
  },
  {
   "cell_type": "markdown",
   "id": "5b23c5bf-992f-4026-89c8-b941782c3ee0",
   "metadata": {},
   "source": [
    "##Author\n",
    "Samikha Srinivasan"
   ]
  }
 ],
 "metadata": {
  "kernelspec": {
   "display_name": "Python 3 (ipykernel)",
   "language": "python",
   "name": "python3"
  },
  "language_info": {
   "codemirror_mode": {
    "name": "ipython",
    "version": 3
   },
   "file_extension": ".py",
   "mimetype": "text/x-python",
   "name": "python",
   "nbconvert_exporter": "python",
   "pygments_lexer": "ipython3",
   "version": "3.12.3"
  }
 },
 "nbformat": 4,
 "nbformat_minor": 5
}
